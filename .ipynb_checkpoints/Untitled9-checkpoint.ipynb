{
 "cells": [
  {
   "cell_type": "code",
   "execution_count": 10,
   "id": "a22dd2ff",
   "metadata": {},
   "outputs": [
    {
     "name": "stdout",
     "output_type": "stream",
     "text": [
      "10 20 30\n"
     ]
    }
   ],
   "source": [
    "a,b,c=(10,20,30)\n",
    "print(a,b,c)"
   ]
  },
  {
   "cell_type": "code",
   "execution_count": null,
   "id": "48b0aaf3",
   "metadata": {},
   "outputs": [],
   "source": [
    "ifn>0;"
   ]
  },
  {
   "cell_type": "code",
   "execution_count": null,
   "id": "f01f2bd3",
   "metadata": {},
   "outputs": [],
   "source": [
    "print(\"positive number\")"
   ]
  },
  {
   "cell_type": "code",
   "execution_count": null,
   "id": "26c716c4",
   "metadata": {},
   "outputs": [],
   "source": [
    "else"
   ]
  },
  {
   "cell_type": "code",
   "execution_count": null,
   "id": "17fb267c",
   "metadata": {},
   "outputs": [],
   "source": [
    "print(\"negative number\")"
   ]
  },
  {
   "cell_type": "code",
   "execution_count": null,
   "id": "46d21f12",
   "metadata": {},
   "outputs": [],
   "source": [
    "ifn<0;"
   ]
  },
  {
   "cell_type": "code",
   "execution_count": null,
   "id": "ba0ce80e",
   "metadata": {},
   "outputs": [],
   "source": [
    "print(\"positive number\")"
   ]
  },
  {
   "cell_type": "code",
   "execution_count": null,
   "id": "7d73de4a",
   "metadata": {},
   "outputs": [],
   "source": []
  }
 ],
 "metadata": {
  "kernelspec": {
   "display_name": "Python 3 (ipykernel)",
   "language": "python",
   "name": "python3"
  },
  "language_info": {
   "codemirror_mode": {
    "name": "ipython",
    "version": 3
   },
   "file_extension": ".py",
   "mimetype": "text/x-python",
   "name": "python",
   "nbconvert_exporter": "python",
   "pygments_lexer": "ipython3",
   "version": "3.11.3"
  }
 },
 "nbformat": 4,
 "nbformat_minor": 5
}
