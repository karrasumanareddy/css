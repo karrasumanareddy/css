{
 "cells": [
  {
   "cell_type": "code",
   "execution_count": null,
   "id": "f3bad4f5",
   "metadata": {},
   "outputs": [],
   "source": [
    "a=input(\"type a number:\")\n",
    "b=input(\"type another number:\")\n",
    "sum=int(55)+int(65)\n",
    "print(\"the sum is:\",sum) "
   ]
  },
  {
   "cell_type": "code",
   "execution_count": null,
   "id": "681e3637",
   "metadata": {},
   "outputs": [],
   "source": [
    "#taking three inputs at a time\n",
    "a,b,c=input(\"enter three values:\").split()\n",
    "print(\"enter first name:\",a)\n",
    "print(\"enter last name:\",b)\n",
    "print(\"enter your class:\",c)\n",
    "print()"
   ]
  },
  {
   "cell_type": "code",
   "execution_count": 1,
   "id": "91a7af64",
   "metadata": {},
   "outputs": [
    {
     "ename": "NameError",
     "evalue": "name 'enames' is not defined",
     "output_type": "error",
     "traceback": [
      "\u001b[1;31m---------------------------------------------------------------------------\u001b[0m",
      "\u001b[1;31mNameError\u001b[0m                                 Traceback (most recent call last)",
      "Cell \u001b[1;32mIn[1], line 1\u001b[0m\n\u001b[1;32m----> 1\u001b[0m \u001b[43menames\u001b[49m(\u001b[38;5;124m\"\u001b[39m\u001b[38;5;124mrada\u001b[39m\u001b[38;5;124m\"\u001b[39m,\u001b[38;5;124m\"\u001b[39m\u001b[38;5;124msita\u001b[39m\u001b[38;5;124m\"\u001b[39m,\u001b[38;5;124m\"\u001b[39m\u001b[38;5;124mrama\u001b[39m\u001b[38;5;124m\"\u001b[39m)\n\u001b[0;32m      2\u001b[0m enames\u001b[38;5;241m.\u001b[39mupdate(\u001b[38;5;124m\"\u001b[39m\u001b[38;5;124mbima\u001b[39m\u001b[38;5;124m\"\u001b[39m)\n\u001b[0;32m      3\u001b[0m \u001b[38;5;28mprint\u001b[39m(enames)\n",
      "\u001b[1;31mNameError\u001b[0m: name 'enames' is not defined"
     ]
    }
   ],
   "source": [
    "enames(\"rada\",\"sita\",\"rama\")\n",
    "enames.update(\"bima\")\n",
    "print(enames)"
   ]
  },
  {
   "cell_type": "code",
   "execution_count": null,
   "id": "6a9fae3d",
   "metadata": {},
   "outputs": [],
   "source": []
  }
 ],
 "metadata": {
  "kernelspec": {
   "display_name": "Python 3 (ipykernel)",
   "language": "python",
   "name": "python3"
  },
  "language_info": {
   "codemirror_mode": {
    "name": "ipython",
    "version": 3
   },
   "file_extension": ".py",
   "mimetype": "text/x-python",
   "name": "python",
   "nbconvert_exporter": "python",
   "pygments_lexer": "ipython3",
   "version": "3.11.3"
  }
 },
 "nbformat": 4,
 "nbformat_minor": 5
}
